{
 "cells": [
  {
   "cell_type": "code",
   "execution_count": 2,
   "metadata": {},
   "outputs": [],
   "source": [
    "import pandas as pd"
   ]
  },
  {
   "cell_type": "code",
   "execution_count": 5,
   "metadata": {},
   "outputs": [],
   "source": [
    "\n",
    "\n",
    "#보육시설 CSV 파일 읽기\n",
    "df1_childcare = pd.read_csv('./인프라 데이터/교육/보육시설(구별)_20240514165547.csv')\n"
   ]
  },
  {
   "cell_type": "code",
   "execution_count": 12,
   "metadata": {},
   "outputs": [],
   "source": [
    "#열이름 조정, 필요없는 열과 행의 값 제거\n",
    "df1_childcare.rename(columns={'2023':'합계','2023.1':'국공립','2023.2':'사회복지법인','법인·단체':'법인_단체',\n",
    "                    '2023.4':'민간','2023.5':'가정','2023.6':'부모협동', '2023.7':'직장','자치구별(2)':'자치구'},inplace=True)\n",
    "df1_childcare.drop(index=0,inplace=True)\n",
    "df1_childcare.drop(columns= ['자치구별(1)'],inplace=True)"
   ]
  },
  {
   "cell_type": "code",
   "execution_count": 32,
   "metadata": {},
   "outputs": [],
   "source": [
    "df1_childcare.to_csv('보육시설.csv', encoding='utf-8', index=False)"
   ]
  },
  {
   "cell_type": "code",
   "execution_count": 16,
   "metadata": {},
   "outputs": [],
   "source": [
    "#학교 CSV 파일 읽기\n",
    "df_school = pd.read_csv('./인프라 데이터/교육/서울시 학교 기본정보.csv', encoding='cp949')\n",
    "df_school = df_school[[\"학교종류명\",\"설립구분\",\"학교명\",\"도로명주소\"]]\n"
   ]
  },
  {
   "cell_type": "code",
   "execution_count": 17,
   "metadata": {},
   "outputs": [
    {
     "name": "stderr",
     "output_type": "stream",
     "text": [
      "C:\\Users\\csb\\AppData\\Local\\Temp\\ipykernel_2932\\3448473187.py:2: SettingWithCopyWarning: \n",
      "A value is trying to be set on a copy of a slice from a DataFrame.\n",
      "Try using .loc[row_indexer,col_indexer] = value instead\n",
      "\n",
      "See the caveats in the documentation: https://pandas.pydata.org/pandas-docs/stable/user_guide/indexing.html#returning-a-view-versus-a-copy\n",
      "  df3['자치구'] = df3['도로명주소'].apply(lambda x: [part for part in x.split()][1])\n"
     ]
    }
   ],
   "source": [
    "#주소에서 자치구 추출\n",
    "df_school['자치구'] = df_school['도로명주소'].apply(lambda x: [part for part in x.split()][1])\n"
   ]
  },
  {
   "cell_type": "code",
   "execution_count": 20,
   "metadata": {},
   "outputs": [
    {
     "data": {
      "text/html": [
       "<div>\n",
       "<style scoped>\n",
       "    .dataframe tbody tr th:only-of-type {\n",
       "        vertical-align: middle;\n",
       "    }\n",
       "\n",
       "    .dataframe tbody tr th {\n",
       "        vertical-align: top;\n",
       "    }\n",
       "\n",
       "    .dataframe thead th {\n",
       "        text-align: right;\n",
       "    }\n",
       "</style>\n",
       "<table border=\"1\" class=\"dataframe\">\n",
       "  <thead>\n",
       "    <tr style=\"text-align: right;\">\n",
       "      <th></th>\n",
       "      <th>학교종류명</th>\n",
       "      <th>설립구분</th>\n",
       "      <th>학교명</th>\n",
       "      <th>도로명주소</th>\n",
       "      <th>자치구</th>\n",
       "    </tr>\n",
       "  </thead>\n",
       "  <tbody>\n",
       "    <tr>\n",
       "      <th>0</th>\n",
       "      <td>각종학교(중)</td>\n",
       "      <td>사립</td>\n",
       "      <td>선화예술중학교</td>\n",
       "      <td>서울특별시 광진구 천호대로 664</td>\n",
       "      <td>광진구</td>\n",
       "    </tr>\n",
       "    <tr>\n",
       "      <th>1</th>\n",
       "      <td>초등학교</td>\n",
       "      <td>공립</td>\n",
       "      <td>서울숭신초등학교</td>\n",
       "      <td>서울특별시 성동구 마장로 161</td>\n",
       "      <td>성동구</td>\n",
       "    </tr>\n",
       "    <tr>\n",
       "      <th>2</th>\n",
       "      <td>중학교</td>\n",
       "      <td>공립</td>\n",
       "      <td>행당중학교</td>\n",
       "      <td>서울특별시 성동구 왕십리로 189</td>\n",
       "      <td>성동구</td>\n",
       "    </tr>\n",
       "    <tr>\n",
       "      <th>710</th>\n",
       "      <td>각종학교(고)</td>\n",
       "      <td>사립</td>\n",
       "      <td>지구촌학교 고등학교</td>\n",
       "      <td>서울특별시 구로구 오리로 1189</td>\n",
       "      <td>구로구</td>\n",
       "    </tr>\n",
       "    <tr>\n",
       "      <th>719</th>\n",
       "      <td>평생학교(초)-3년6학기</td>\n",
       "      <td>사립</td>\n",
       "      <td>학력인정 서현초등학교</td>\n",
       "      <td>서울특별시 영등포구 도신로53길 18</td>\n",
       "      <td>영등포구</td>\n",
       "    </tr>\n",
       "    <tr>\n",
       "      <th>720</th>\n",
       "      <td>각종학교(초)</td>\n",
       "      <td>사립</td>\n",
       "      <td>지구촌학교</td>\n",
       "      <td>서울특별시 구로구 오리로 1189</td>\n",
       "      <td>구로구</td>\n",
       "    </tr>\n",
       "    <tr>\n",
       "      <th>819</th>\n",
       "      <td>방송통신중학교</td>\n",
       "      <td>공립</td>\n",
       "      <td>아현중학교부설방송통신중학교</td>\n",
       "      <td>서울특별시 마포구 마포대로 247</td>\n",
       "      <td>마포구</td>\n",
       "    </tr>\n",
       "    <tr>\n",
       "      <th>1009</th>\n",
       "      <td>고등학교</td>\n",
       "      <td>사립</td>\n",
       "      <td>미림마이스터고등학교</td>\n",
       "      <td>서울특별시 관악구 호암로 546</td>\n",
       "      <td>관악구</td>\n",
       "    </tr>\n",
       "    <tr>\n",
       "      <th>1375</th>\n",
       "      <td>특수학교</td>\n",
       "      <td>공립</td>\n",
       "      <td>서울서진학교</td>\n",
       "      <td>서울특별시 강서구 양천로55길 22</td>\n",
       "      <td>강서구</td>\n",
       "    </tr>\n",
       "    <tr>\n",
       "      <th>1395</th>\n",
       "      <td>외국인학교</td>\n",
       "      <td>사립</td>\n",
       "      <td>덜위치칼리지서울영국학교</td>\n",
       "      <td>서울특별시 서초구 신반포로15길 6</td>\n",
       "      <td>서초구</td>\n",
       "    </tr>\n",
       "    <tr>\n",
       "      <th>1610</th>\n",
       "      <td>평생학교(고)-2년6학기</td>\n",
       "      <td>사립</td>\n",
       "      <td>학력인정 청량정보고등학교(2년제)</td>\n",
       "      <td>서울특별시 동대문구 답십리로15길 32</td>\n",
       "      <td>동대문구</td>\n",
       "    </tr>\n",
       "    <tr>\n",
       "      <th>1612</th>\n",
       "      <td>평생학교(고)-3년6학기</td>\n",
       "      <td>사립</td>\n",
       "      <td>학력인정 한림연예예술고등학교</td>\n",
       "      <td>서울특별시 송파구 충민로 172</td>\n",
       "      <td>송파구</td>\n",
       "    </tr>\n",
       "    <tr>\n",
       "      <th>1620</th>\n",
       "      <td>평생학교(중)-2년6학기</td>\n",
       "      <td>사립</td>\n",
       "      <td>학력인정 한림중학교(2년제)</td>\n",
       "      <td>서울특별시 송파구 충민로 172</td>\n",
       "      <td>송파구</td>\n",
       "    </tr>\n",
       "    <tr>\n",
       "      <th>2051</th>\n",
       "      <td>고등기술학교</td>\n",
       "      <td>사립</td>\n",
       "      <td>청암예술학교</td>\n",
       "      <td>서울특별시 노원구 중계로 244</td>\n",
       "      <td>노원구</td>\n",
       "    </tr>\n",
       "    <tr>\n",
       "      <th>2668</th>\n",
       "      <td>방송통신고등학교</td>\n",
       "      <td>공립</td>\n",
       "      <td>영등포고등학교부설방송통신고등학교</td>\n",
       "      <td>서울특별시 동작구 등용로8길 5</td>\n",
       "      <td>동작구</td>\n",
       "    </tr>\n",
       "    <tr>\n",
       "      <th>3907</th>\n",
       "      <td>공동실습소</td>\n",
       "      <td>공립</td>\n",
       "      <td>경기기계공업고등학교부설미래기술교육센터</td>\n",
       "      <td>서울특별시 노원구 공릉로 264</td>\n",
       "      <td>노원구</td>\n",
       "    </tr>\n",
       "  </tbody>\n",
       "</table>\n",
       "</div>"
      ],
      "text/plain": [
       "              학교종류명 설립구분                   학교명                  도로명주소   자치구\n",
       "0           각종학교(중)   사립               선화예술중학교     서울특별시 광진구 천호대로 664   광진구\n",
       "1              초등학교   공립              서울숭신초등학교      서울특별시 성동구 마장로 161   성동구\n",
       "2               중학교   공립                 행당중학교     서울특별시 성동구 왕십리로 189   성동구\n",
       "710         각종학교(고)   사립            지구촌학교 고등학교     서울특별시 구로구 오리로 1189   구로구\n",
       "719   평생학교(초)-3년6학기   사립           학력인정 서현초등학교   서울특별시 영등포구 도신로53길 18  영등포구\n",
       "720         각종학교(초)   사립                 지구촌학교     서울특별시 구로구 오리로 1189   구로구\n",
       "819         방송통신중학교   공립        아현중학교부설방송통신중학교     서울특별시 마포구 마포대로 247   마포구\n",
       "1009           고등학교   사립            미림마이스터고등학교      서울특별시 관악구 호암로 546   관악구\n",
       "1375           특수학교   공립                서울서진학교    서울특별시 강서구 양천로55길 22   강서구\n",
       "1395          외국인학교   사립          덜위치칼리지서울영국학교    서울특별시 서초구 신반포로15길 6   서초구\n",
       "1610  평생학교(고)-2년6학기   사립    학력인정 청량정보고등학교(2년제)  서울특별시 동대문구 답십리로15길 32  동대문구\n",
       "1612  평생학교(고)-3년6학기   사립       학력인정 한림연예예술고등학교      서울특별시 송파구 충민로 172   송파구\n",
       "1620  평생학교(중)-2년6학기   사립       학력인정 한림중학교(2년제)      서울특별시 송파구 충민로 172   송파구\n",
       "2051         고등기술학교   사립                청암예술학교      서울특별시 노원구 중계로 244   노원구\n",
       "2668       방송통신고등학교   공립     영등포고등학교부설방송통신고등학교      서울특별시 동작구 등용로8길 5   동작구\n",
       "3907          공동실습소   공립  경기기계공업고등학교부설미래기술교육센터      서울특별시 노원구 공릉로 264   노원구"
      ]
     },
     "execution_count": 20,
     "metadata": {},
     "output_type": "execute_result"
    }
   ],
   "source": [
    "#중복된 학교제거\n",
    "df_school.drop_duplicates(subset=['학교종류명'])"
   ]
  },
  {
   "cell_type": "code",
   "execution_count": 48,
   "metadata": {},
   "outputs": [],
   "source": [
    "\n",
    "df_school.to_csv('서울시 학교.csv', encoding='utf-8', index=False)"
   ]
  },
  {
   "cell_type": "code",
   "execution_count": 21,
   "metadata": {},
   "outputs": [],
   "source": [
    "#학원 csv 읽기\n",
    "df4_academy = pd.read_csv('./인프라 데이터/교육/서울시 학원 교습소정보.csv',encoding='cp949')\n",
    "df4_academy = df4_academy[['행정구역명',\"학원/교습소\",\"학원명\",\"도로명주소\",'분야명']]\n"
   ]
  },
  {
   "cell_type": "code",
   "execution_count": 53,
   "metadata": {},
   "outputs": [],
   "source": [
    "df4_academy.to_csv('서울시 학원.csv', encoding='utf-8', index=False)"
   ]
  }
 ],
 "metadata": {
  "kernelspec": {
   "display_name": "Python 3",
   "language": "python",
   "name": "python3"
  },
  "language_info": {
   "codemirror_mode": {
    "name": "ipython",
    "version": 3
   },
   "file_extension": ".py",
   "mimetype": "text/x-python",
   "name": "python",
   "nbconvert_exporter": "python",
   "pygments_lexer": "ipython3",
   "version": "3.11.7"
  }
 },
 "nbformat": 4,
 "nbformat_minor": 2
}
