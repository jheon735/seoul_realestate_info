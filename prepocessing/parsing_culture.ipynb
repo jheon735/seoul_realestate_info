{
 "cells": [
  {
   "cell_type": "code",
   "execution_count": 3,
   "metadata": {},
   "outputs": [],
   "source": [
    "import pandas as pd"
   ]
  },
  {
   "cell_type": "code",
   "execution_count": 4,
   "metadata": {},
   "outputs": [],
   "source": [
    "\n",
    "# 문화공간 CSV 파일 읽기\n",
    "df1_culturespace = pd.read_csv('./인프라 데이터/문화/서울시 문화공간 정보.csv',encoding='cp949')\n",
    "df1_culturespace = df1_culturespace[[\"주제분류\",\"문화시설명\",\"주소\",\"위도\",\"경도\",\"무료구분\"]]\n",
    "\n"
   ]
  },
  {
   "cell_type": "code",
   "execution_count": 5,
   "metadata": {},
   "outputs": [],
   "source": [
    "df1_culturespace['주소'] = df1_culturespace['주소'].astype(str)\n",
    "df1_culturespace['자치구'] = df1_culturespace['주소'].apply(lambda x: x.split()[1] if len(x.split()) > 1 else \"\")\n"
   ]
  },
  {
   "cell_type": "code",
   "execution_count": 15,
   "metadata": {},
   "outputs": [],
   "source": [
    "df1_culturespace.to_csv('공연장.csv',index=False)"
   ]
  },
  {
   "cell_type": "code",
   "execution_count": 31,
   "metadata": {},
   "outputs": [],
   "source": [
    "#공원정보 csv 파일 읽기\n",
    "df_park = pd.read_csv('./인프라 데이터/문화/서울시 산과공원 생태관광 정보 (한국어_2015년).csv',encoding='cp949')\n",
    "df_park = df_park[[\"명칭\",\"대분류\",\"주소\",\"행정 구\"]]"
   ]
  },
  {
   "cell_type": "code",
   "execution_count": 32,
   "metadata": {},
   "outputs": [],
   "source": [
    "df_park.rename(columns={'행정 구' : '자치구'},inplace=True)"
   ]
  },
  {
   "cell_type": "code",
   "execution_count": 34,
   "metadata": {},
   "outputs": [
    {
     "data": {
      "text/html": [
       "<div>\n",
       "<style scoped>\n",
       "    .dataframe tbody tr th:only-of-type {\n",
       "        vertical-align: middle;\n",
       "    }\n",
       "\n",
       "    .dataframe tbody tr th {\n",
       "        vertical-align: top;\n",
       "    }\n",
       "\n",
       "    .dataframe thead th {\n",
       "        text-align: right;\n",
       "    }\n",
       "</style>\n",
       "<table border=\"1\" class=\"dataframe\">\n",
       "  <thead>\n",
       "    <tr style=\"text-align: right;\">\n",
       "      <th></th>\n",
       "      <th>명칭</th>\n",
       "      <th>대분류</th>\n",
       "      <th>주소</th>\n",
       "      <th>자치구</th>\n",
       "    </tr>\n",
       "  </thead>\n",
       "  <tbody>\n",
       "    <tr>\n",
       "      <th>1</th>\n",
       "      <td>안산공원</td>\n",
       "      <td>산과공원</td>\n",
       "      <td>서울특별시 서대문구 홍제동 산33번지 일대</td>\n",
       "      <td>서대문구</td>\n",
       "    </tr>\n",
       "    <tr>\n",
       "      <th>2</th>\n",
       "      <td>여의도공원</td>\n",
       "      <td>산과공원</td>\n",
       "      <td>서울특별시 영등포구 여의공원로68(여의도동 2번지)</td>\n",
       "      <td>영등포구</td>\n",
       "    </tr>\n",
       "    <tr>\n",
       "      <th>3</th>\n",
       "      <td>염창공원</td>\n",
       "      <td>산과공원</td>\n",
       "      <td>서울 강서구 염창동 산24-1</td>\n",
       "      <td>강서구</td>\n",
       "    </tr>\n",
       "    <tr>\n",
       "      <th>4</th>\n",
       "      <td>영등포공원</td>\n",
       "      <td>산과공원</td>\n",
       "      <td>서울특별시 영등포구 영등포동 582-3번지</td>\n",
       "      <td>영등포구</td>\n",
       "    </tr>\n",
       "    <tr>\n",
       "      <th>5</th>\n",
       "      <td>오금공원</td>\n",
       "      <td>산과공원</td>\n",
       "      <td>서울 송파구 오금동 5번지 (오금근린공원 관리사무소 옆)</td>\n",
       "      <td>송파구</td>\n",
       "    </tr>\n",
       "  </tbody>\n",
       "</table>\n",
       "</div>"
      ],
      "text/plain": [
       "      명칭   대분류                               주소   자치구\n",
       "1   안산공원  산과공원          서울특별시 서대문구 홍제동 산33번지 일대  서대문구\n",
       "2  여의도공원  산과공원     서울특별시 영등포구 여의공원로68(여의도동 2번지)  영등포구\n",
       "3   염창공원  산과공원                 서울 강서구 염창동 산24-1   강서구\n",
       "4  영등포공원  산과공원          서울특별시 영등포구 영등포동 582-3번지  영등포구\n",
       "5   오금공원  산과공원  서울 송파구 오금동 5번지 (오금근린공원 관리사무소 옆)   송파구"
      ]
     },
     "execution_count": 34,
     "metadata": {},
     "output_type": "execute_result"
    }
   ],
   "source": [
    "df_park = df_park[df_park['대분류'].str.contains(\"산과공원\")]\n",
    "df_park.head()"
   ]
  },
  {
   "cell_type": "code",
   "execution_count": 35,
   "metadata": {},
   "outputs": [],
   "source": [
    "df_park.to_csv('서울시 공원.csv',index=False)"
   ]
  },
  {
   "cell_type": "code",
   "execution_count": 46,
   "metadata": {},
   "outputs": [],
   "source": [
    "#영화관 csv 파일 읽기\n",
    "df_movie = pd.read_csv('./인프라 데이터/문화/문화공간(영화관)_20240514180143.csv')\n",
    "df_movie = df_movie[['자치구별(2)','2023','2023.1','2023.2']]"
   ]
  },
  {
   "cell_type": "code",
   "execution_count": 51,
   "metadata": {},
   "outputs": [
    {
     "name": "stderr",
     "output_type": "stream",
     "text": [
      "C:\\Users\\csb\\AppData\\Local\\Temp\\ipykernel_26788\\2196076580.py:1: SettingWithCopyWarning: \n",
      "A value is trying to be set on a copy of a slice from a DataFrame\n",
      "\n",
      "See the caveats in the documentation: https://pandas.pydata.org/pandas-docs/stable/user_guide/indexing.html#returning-a-view-versus-a-copy\n",
      "  df4.rename(columns={'자치구별(2)': '자치구','2023':'영화관수','2023.1':'스크린수','2023.2':'좌석수'},inplace=True)\n"
     ]
    }
   ],
   "source": [
    "df_movie.rename(columns={'자치구별(2)': '자치구','2023':'영화관수','2023.1':'스크린수','2023.2':'좌석수'},inplace=True)\n",
    "df_movie.drop([0],inplace=True)\n"
   ]
  },
  {
   "cell_type": "code",
   "execution_count": 57,
   "metadata": {},
   "outputs": [],
   "source": [
    "df_movie.to_csv('서울시 영화관.csv', index=False)\n"
   ]
  }
 ],
 "metadata": {
  "kernelspec": {
   "display_name": "Python 3",
   "language": "python",
   "name": "python3"
  },
  "language_info": {
   "codemirror_mode": {
    "name": "ipython",
    "version": 3
   },
   "file_extension": ".py",
   "mimetype": "text/x-python",
   "name": "python",
   "nbconvert_exporter": "python",
   "pygments_lexer": "ipython3",
   "version": "3.11.7"
  }
 },
 "nbformat": 4,
 "nbformat_minor": 2
}
