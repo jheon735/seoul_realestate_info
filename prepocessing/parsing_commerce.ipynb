{
 "cells": [
  {
   "cell_type": "code",
   "execution_count": 2,
   "metadata": {},
   "outputs": [],
   "source": [
    "import pandas as pd"
   ]
  },
  {
   "cell_type": "code",
   "execution_count": 6,
   "metadata": {},
   "outputs": [],
   "source": [
    "#상권 정보 csv 파일 읽기\n",
    "df_commercial = pd.read_csv('서울시 상권분석서비스(점포-자치구).csv',encoding='cp949')\n",
    "df_commercial.rename(columns={'서비스_업종_코드': '업종코드','자치구_코드':'자치구코드','자치구_코드_명':'자치구',\n",
    "                    '서비스_업종_코드_명':'업종명','유사_업종_점포_수':'점포수'\t}, inplace=True)\n",
    "df_commercial = df_commercial[df_commercial['업종코드'].str.contains(\"CS1|CS3\")]\n",
    "df_commercial = df_commercial[['자치구코드','자치구','업종코드','업종명','점포수']]\n"
   ]
  },
  {
   "cell_type": "code",
   "execution_count": 7,
   "metadata": {},
   "outputs": [],
   "source": [
    "def classify_business(code):\n",
    "    if code.startswith('CS3'):\n",
    "        return '소매업'\n",
    "    elif code.startswith('CS1'):\n",
    "        return '외식업'\n",
    "    else:\n",
    "        return '기타'\n",
    "    \n",
    "df_commercial['업종분류'] = df_commercial['업종코드'].apply(classify_business)"
   ]
  },
  {
   "cell_type": "code",
   "execution_count": 8,
   "metadata": {},
   "outputs": [],
   "source": [
    "df_commercial.to_csv(\"점포명.csv\",encoding='UTF-8',index= False)"
   ]
  },
  {
   "cell_type": "code",
   "execution_count": 9,
   "metadata": {},
   "outputs": [],
   "source": [
    "def classify_business(code):\n",
    "    if code.startswith('CS3'):\n",
    "        return '소매업'\n",
    "    elif code.startswith('CS1'):\n",
    "        return '외식업'\n",
    "    else:\n",
    "        return '기타'\n",
    "    \n",
    "df_commercial['업종분류'] = df_commercial['업종코드'].apply(classify_business)\n",
    "df_commercial['점포수'] = df_commercial['점포수'].astype(int)"
   ]
  },
  {
   "cell_type": "code",
   "execution_count": 10,
   "metadata": {},
   "outputs": [
    {
     "data": {
      "text/html": [
       "<div>\n",
       "<style scoped>\n",
       "    .dataframe tbody tr th:only-of-type {\n",
       "        vertical-align: middle;\n",
       "    }\n",
       "\n",
       "    .dataframe tbody tr th {\n",
       "        vertical-align: top;\n",
       "    }\n",
       "\n",
       "    .dataframe thead th {\n",
       "        text-align: right;\n",
       "    }\n",
       "</style>\n",
       "<table border=\"1\" class=\"dataframe\">\n",
       "  <thead>\n",
       "    <tr style=\"text-align: right;\">\n",
       "      <th></th>\n",
       "      <th>자치구코드</th>\n",
       "      <th>자치구</th>\n",
       "      <th>업종코드</th>\n",
       "      <th>업종명</th>\n",
       "      <th>점포수</th>\n",
       "      <th>업종분류</th>\n",
       "    </tr>\n",
       "  </thead>\n",
       "  <tbody>\n",
       "    <tr>\n",
       "      <th>0</th>\n",
       "      <td>11740</td>\n",
       "      <td>강동구</td>\n",
       "      <td>CS300043</td>\n",
       "      <td>전자상거래업</td>\n",
       "      <td>2151</td>\n",
       "      <td>소매업</td>\n",
       "    </tr>\n",
       "    <tr>\n",
       "      <th>1</th>\n",
       "      <td>11740</td>\n",
       "      <td>강동구</td>\n",
       "      <td>CS300042</td>\n",
       "      <td>주유소</td>\n",
       "      <td>38</td>\n",
       "      <td>소매업</td>\n",
       "    </tr>\n",
       "    <tr>\n",
       "      <th>2</th>\n",
       "      <td>11740</td>\n",
       "      <td>강동구</td>\n",
       "      <td>CS300041</td>\n",
       "      <td>예술품</td>\n",
       "      <td>30</td>\n",
       "      <td>소매업</td>\n",
       "    </tr>\n",
       "    <tr>\n",
       "      <th>3</th>\n",
       "      <td>11740</td>\n",
       "      <td>강동구</td>\n",
       "      <td>CS300040</td>\n",
       "      <td>재생용품 판매점</td>\n",
       "      <td>41</td>\n",
       "      <td>소매업</td>\n",
       "    </tr>\n",
       "    <tr>\n",
       "      <th>4</th>\n",
       "      <td>11740</td>\n",
       "      <td>강동구</td>\n",
       "      <td>CS300039</td>\n",
       "      <td>모터사이클및부품</td>\n",
       "      <td>17</td>\n",
       "      <td>소매업</td>\n",
       "    </tr>\n",
       "  </tbody>\n",
       "</table>\n",
       "</div>"
      ],
      "text/plain": [
       "   자치구코드  자치구      업종코드       업종명   점포수 업종분류\n",
       "0  11740  강동구  CS300043    전자상거래업  2151  소매업\n",
       "1  11740  강동구  CS300042       주유소    38  소매업\n",
       "2  11740  강동구  CS300041       예술품    30  소매업\n",
       "3  11740  강동구  CS300040  재생용품 판매점    41  소매업\n",
       "4  11740  강동구  CS300039  모터사이클및부품    17  소매업"
      ]
     },
     "execution_count": 10,
     "metadata": {},
     "output_type": "execute_result"
    }
   ],
   "source": [
    "df5 = pd.read_csv('./인프라 데이터/통합/상권/서울시 상권.csv')\n"
   ]
  }
 ],
 "metadata": {
  "kernelspec": {
   "display_name": "Python 3",
   "language": "python",
   "name": "python3"
  },
  "language_info": {
   "codemirror_mode": {
    "name": "ipython",
    "version": 3
   },
   "file_extension": ".py",
   "mimetype": "text/x-python",
   "name": "python",
   "nbconvert_exporter": "python",
   "pygments_lexer": "ipython3",
   "version": "3.11.7"
  }
 },
 "nbformat": 4,
 "nbformat_minor": 2
}
