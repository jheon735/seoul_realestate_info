{
 "cells": [
  {
   "cell_type": "code",
   "execution_count": 1,
   "metadata": {},
   "outputs": [],
   "source": [
    "import pandas as pd\n",
    "from geopy.geocoders import Nominatim"
   ]
  },
  {
   "cell_type": "code",
   "execution_count": 2,
   "metadata": {},
   "outputs": [],
   "source": [
    "# 지하철 정보 csv 파일 읽기\n",
    "df_subway = pd.read_csv('./인프라 데이터/교통/서울시 역사마스터 정보.csv',encoding='cp949')\n",
    "df_subway_loc = df_subway[[\"위도\",\"경도\"]]"
   ]
  },
  {
   "cell_type": "code",
   "execution_count": 3,
   "metadata": {},
   "outputs": [],
   "source": [
    "#위도 경도로 주소 찾기\n",
    "geo_local = Nominatim(user_agent= 'South Korea', timeout=None)\n",
    "def geocoding(address):\n",
    "    try:\n",
    "        geo = geo_local.geocode(address)\n",
    "        x_y = [geo.latitude, geo.longitude]\n",
    "        return x_y\n",
    "    except:\n",
    "        return [0, 0]\n",
    "    \n",
    "def geocoding_reverse(lat, lng):\n",
    "    try:\n",
    "        address = geo_local.reverse([lat, lng], exactly_one=True, language='ko')\n",
    "        detail_address = address.address\t\t\t\t# 상세주소\n",
    "        zip_code = address.raw['address']['postcode']   # 우편번호\n",
    "        x_y = detail_address.split(',')[:-2][::-1]\n",
    "        x_y = ''.join(x_y)\n",
    "        return x_y\n",
    "    except:\n",
    "        return [0, 0]"
   ]
  },
  {
   "cell_type": "code",
   "execution_count": 4,
   "metadata": {},
   "outputs": [
    {
     "data": {
      "text/html": [
       "<div>\n",
       "<style scoped>\n",
       "    .dataframe tbody tr th:only-of-type {\n",
       "        vertical-align: middle;\n",
       "    }\n",
       "\n",
       "    .dataframe tbody tr th {\n",
       "        vertical-align: top;\n",
       "    }\n",
       "\n",
       "    .dataframe thead th {\n",
       "        text-align: right;\n",
       "    }\n",
       "</style>\n",
       "<table border=\"1\" class=\"dataframe\">\n",
       "  <thead>\n",
       "    <tr style=\"text-align: right;\">\n",
       "      <th></th>\n",
       "      <th>역사_ID</th>\n",
       "      <th>역사명</th>\n",
       "      <th>호선</th>\n",
       "      <th>위도</th>\n",
       "      <th>경도</th>\n",
       "      <th>주소</th>\n",
       "    </tr>\n",
       "  </thead>\n",
       "  <tbody>\n",
       "    <tr>\n",
       "      <th>0</th>\n",
       "      <td>9996</td>\n",
       "      <td>미사</td>\n",
       "      <td>5호선</td>\n",
       "      <td>37.560927</td>\n",
       "      <td>127.193877</td>\n",
       "      <td>하남시 미사1동 미사강변동로 70오페라약국</td>\n",
       "    </tr>\n",
       "    <tr>\n",
       "      <th>1</th>\n",
       "      <td>9995</td>\n",
       "      <td>강일</td>\n",
       "      <td>5호선</td>\n",
       "      <td>37.557490</td>\n",
       "      <td>127.175930</td>\n",
       "      <td>서울 강동구 상일2동 강일동 고덕로 산22-14강일</td>\n",
       "    </tr>\n",
       "    <tr>\n",
       "      <th>2</th>\n",
       "      <td>9010</td>\n",
       "      <td>동탄</td>\n",
       "      <td>수도권 광역급행철도</td>\n",
       "      <td>37.200340</td>\n",
       "      <td>127.095690</td>\n",
       "      <td>화성시 동탄신도시 동탄6동 오산동 경부고속도로경부동탄터널</td>\n",
       "    </tr>\n",
       "    <tr>\n",
       "      <th>3</th>\n",
       "      <td>9009</td>\n",
       "      <td>구성</td>\n",
       "      <td>수도권 광역급행철도</td>\n",
       "      <td>37.299130</td>\n",
       "      <td>127.103890</td>\n",
       "      <td>용인시 기흥구경부고속도로</td>\n",
       "    </tr>\n",
       "    <tr>\n",
       "      <th>4</th>\n",
       "      <td>9008</td>\n",
       "      <td>성남</td>\n",
       "      <td>수도권 광역급행철도</td>\n",
       "      <td>37.394670</td>\n",
       "      <td>127.120580</td>\n",
       "      <td>경기도 성남시 분당구 판교분당-수서 도시고속화도로</td>\n",
       "    </tr>\n",
       "  </tbody>\n",
       "</table>\n",
       "</div>"
      ],
      "text/plain": [
       "   역사_ID 역사명          호선         위도          경도  \\\n",
       "0   9996  미사         5호선  37.560927  127.193877   \n",
       "1   9995  강일         5호선  37.557490  127.175930   \n",
       "2   9010  동탄  수도권 광역급행철도  37.200340  127.095690   \n",
       "3   9009  구성  수도권 광역급행철도  37.299130  127.103890   \n",
       "4   9008  성남  수도권 광역급행철도  37.394670  127.120580   \n",
       "\n",
       "                                 주소  \n",
       "0           하남시 미사1동 미사강변동로 70오페라약국  \n",
       "1      서울 강동구 상일2동 강일동 고덕로 산22-14강일  \n",
       "2   화성시 동탄신도시 동탄6동 오산동 경부고속도로경부동탄터널  \n",
       "3                     용인시 기흥구경부고속도로  \n",
       "4       경기도 성남시 분당구 판교분당-수서 도시고속화도로  "
      ]
     },
     "execution_count": 4,
     "metadata": {},
     "output_type": "execute_result"
    }
   ],
   "source": [
    "df_subway['주소'] = df_subway.apply(lambda row: geocoding_reverse(row['위도'], row['경도']),axis=1)\n",
    "df_subway.head()\n"
   ]
  },
  {
   "cell_type": "code",
   "execution_count": 28,
   "metadata": {},
   "outputs": [],
   "source": [
    "#주소에서 자치구 추출\n",
    "df_subway['자치구'] = df_subway['주소'].str.extract(r'(서울 \\w+구)')[0].str.split().str[1]\n",
    "df_subway = df_subway.dropna()\n"
   ]
  },
  {
   "cell_type": "code",
   "execution_count": 42,
   "metadata": {},
   "outputs": [],
   "source": [
    "#도로혼잡도 csv파일 읽기\n",
    "df_traffic = pd.read_csv('./인프라 데이터/교통/도로혼잡도.csv', encoding='cp949')\n",
    "df_traffic = df_traffic[df_traffic['signgu_cd'] < 20000]"
   ]
  },
  {
   "cell_type": "code",
   "execution_count": 12,
   "metadata": {},
   "outputs": [],
   "source": [
    "#csv 파일 출력\n",
    "df_traffic.to_csv('도로혼잡도.csv', encoding='utf-8', index=False)\n"
   ]
  }
 ],
 "metadata": {
  "kernelspec": {
   "display_name": "Python 3",
   "language": "python",
   "name": "python3"
  },
  "language_info": {
   "codemirror_mode": {
    "name": "ipython",
    "version": 3
   },
   "file_extension": ".py",
   "mimetype": "text/x-python",
   "name": "python",
   "nbconvert_exporter": "python",
   "pygments_lexer": "ipython3",
   "version": "3.11.7"
  }
 },
 "nbformat": 4,
 "nbformat_minor": 2
}
