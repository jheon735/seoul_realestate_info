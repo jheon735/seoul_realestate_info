{
 "cells": [
  {
   "cell_type": "code",
   "execution_count": 1,
   "metadata": {},
   "outputs": [],
   "source": [
    "import pandas as pd"
   ]
  },
  {
   "cell_type": "code",
   "execution_count": 2,
   "metadata": {},
   "outputs": [],
   "source": [
    "# CSV 파일 읽기\n",
    "df_hospital = pd.read_csv('./인프라 데이터/의료/서울시 병의원 위치 정보.csv',encoding='cp949')\n"
   ]
  },
  {
   "cell_type": "code",
   "execution_count": 4,
   "metadata": {},
   "outputs": [],
   "source": [
    "df_hospital = df_hospital[[\"주소\",\"병원분류명\",\"기관명\",\"응급실운영여부(1/2)\",\"병원경도\",\"병원위도\"]]"
   ]
  },
  {
   "cell_type": "code",
   "execution_count": 6,
   "metadata": {},
   "outputs": [
    {
     "data": {
      "text/html": [
       "<div>\n",
       "<style scoped>\n",
       "    .dataframe tbody tr th:only-of-type {\n",
       "        vertical-align: middle;\n",
       "    }\n",
       "\n",
       "    .dataframe tbody tr th {\n",
       "        vertical-align: top;\n",
       "    }\n",
       "\n",
       "    .dataframe thead th {\n",
       "        text-align: right;\n",
       "    }\n",
       "</style>\n",
       "<table border=\"1\" class=\"dataframe\">\n",
       "  <thead>\n",
       "    <tr style=\"text-align: right;\">\n",
       "      <th></th>\n",
       "      <th>주소</th>\n",
       "      <th>병원분류명</th>\n",
       "      <th>기관명</th>\n",
       "      <th>응급실운영여부(1/2)</th>\n",
       "      <th>병원경도</th>\n",
       "      <th>병원위도</th>\n",
       "      <th>자치구</th>\n",
       "    </tr>\n",
       "  </thead>\n",
       "  <tbody>\n",
       "    <tr>\n",
       "      <th>0</th>\n",
       "      <td>서울특별시 금천구 벚꽃로 286, 삼성리더스타워 111~114호 (가산동)</td>\n",
       "      <td>의원</td>\n",
       "      <td>가산기대찬의원</td>\n",
       "      <td>2</td>\n",
       "      <td>126.884122</td>\n",
       "      <td>37.480394</td>\n",
       "      <td>금천구</td>\n",
       "    </tr>\n",
       "    <tr>\n",
       "      <th>1</th>\n",
       "      <td>서울특별시 강남구 도산대로 118 (논현동, 신사빌딩 2층)</td>\n",
       "      <td>의원</td>\n",
       "      <td>365엠씨의원</td>\n",
       "      <td>2</td>\n",
       "      <td>127.021809</td>\n",
       "      <td>37.516604</td>\n",
       "      <td>강남구</td>\n",
       "    </tr>\n",
       "    <tr>\n",
       "      <th>2</th>\n",
       "      <td>서울특별시 강남구 봉은사로 612 (삼성동)</td>\n",
       "      <td>병원</td>\n",
       "      <td>(의)가산의료재단광동병원</td>\n",
       "      <td>2</td>\n",
       "      <td>127.062147</td>\n",
       "      <td>37.514281</td>\n",
       "      <td>강남구</td>\n",
       "    </tr>\n",
       "    <tr>\n",
       "      <th>3</th>\n",
       "      <td>서울특별시 강남구 삼성로145길 6, 지하1층,2층,3층 (청담동)</td>\n",
       "      <td>의원</td>\n",
       "      <td>CDU청담유성형외과의원</td>\n",
       "      <td>2</td>\n",
       "      <td>127.047702</td>\n",
       "      <td>37.522348</td>\n",
       "      <td>강남구</td>\n",
       "    </tr>\n",
       "    <tr>\n",
       "      <th>4</th>\n",
       "      <td>서울특별시 관악구 신원로 38, 5층 (신림동, 청암빌딩)</td>\n",
       "      <td>치과의원</td>\n",
       "      <td>가로수치과의원</td>\n",
       "      <td>2</td>\n",
       "      <td>126.929377</td>\n",
       "      <td>37.481918</td>\n",
       "      <td>관악구</td>\n",
       "    </tr>\n",
       "  </tbody>\n",
       "</table>\n",
       "</div>"
      ],
      "text/plain": [
       "                                          주소 병원분류명            기관명  \\\n",
       "0  서울특별시 금천구 벚꽃로 286, 삼성리더스타워 111~114호 (가산동)    의원        가산기대찬의원   \n",
       "1          서울특별시 강남구 도산대로 118 (논현동, 신사빌딩 2층)    의원        365엠씨의원   \n",
       "2                   서울특별시 강남구 봉은사로 612 (삼성동)    병원  (의)가산의료재단광동병원   \n",
       "3      서울특별시 강남구 삼성로145길 6, 지하1층,2층,3층 (청담동)    의원   CDU청담유성형외과의원   \n",
       "4           서울특별시 관악구 신원로 38, 5층 (신림동, 청암빌딩)  치과의원        가로수치과의원   \n",
       "\n",
       "   응급실운영여부(1/2)        병원경도       병원위도  자치구  \n",
       "0             2  126.884122  37.480394  금천구  \n",
       "1             2  127.021809  37.516604  강남구  \n",
       "2             2  127.062147  37.514281  강남구  \n",
       "3             2  127.047702  37.522348  강남구  \n",
       "4             2  126.929377  37.481918  관악구  "
      ]
     },
     "execution_count": 6,
     "metadata": {},
     "output_type": "execute_result"
    }
   ],
   "source": [
    "df_hospital['자치구'] = df_hospital['주소'].apply(lambda x: [part for part in x.split()][1])\n"
   ]
  },
  {
   "cell_type": "code",
   "execution_count": 7,
   "metadata": {},
   "outputs": [],
   "source": [
    "df_hospital.to_csv('서울시 병의원.csv', encoding='utf-8', index=False)"
   ]
  }
 ],
 "metadata": {
  "kernelspec": {
   "display_name": "Python 3",
   "language": "python",
   "name": "python3"
  },
  "language_info": {
   "codemirror_mode": {
    "name": "ipython",
    "version": 3
   },
   "file_extension": ".py",
   "mimetype": "text/x-python",
   "name": "python",
   "nbconvert_exporter": "python",
   "pygments_lexer": "ipython3",
   "version": "3.11.7"
  }
 },
 "nbformat": 4,
 "nbformat_minor": 2
}
